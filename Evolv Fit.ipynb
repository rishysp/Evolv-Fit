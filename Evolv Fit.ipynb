{
 "cells": [
  {
   "cell_type": "code",
   "execution_count": 14,
   "metadata": {},
   "outputs": [],
   "source": [
    "#importing libs\n",
    "import os\n",
    "import numpy as np\n",
    "import cv2\n",
    "import matplotlib.pyplot as plt"
   ]
  },
  {
   "cell_type": "code",
   "execution_count": 15,
   "metadata": {},
   "outputs": [],
   "source": [
    "#directory\n",
    "dir ='C:\\\\Users\\\\PC\\\\Desktop\\\\Job_Assignment\\\\yoga pose-20210722T035747Z-001\\\\yoga pose\\\\Train'"
   ]
  },
  {
   "cell_type": "code",
   "execution_count": 16,
   "metadata": {},
   "outputs": [],
   "source": [
    "categories = ['downdog','goddess','plank','tree','warrior2']"
   ]
  },
  {
   "cell_type": "code",
   "execution_count": 17,
   "metadata": {},
   "outputs": [],
   "source": [
    "#Storing the image data as a list of feature(image) and labels.\n",
    "data = []\n",
    "for category in categories:\n",
    "    path= os.path.join(dir,category)\n",
    "    label=categories.index(category)\n",
    "    \n",
    "    for img in os.listdir(path):\n",
    "        imgpath = os.path.join(path,img)\n",
    "        pose_img=cv2.imread(imgpath,0)\n",
    "        pose_img=cv2.resize(pose_img,(50,50))\n",
    "        image = np.array(pose_img).flatten()\n",
    "        data.append([image,label])\n",
    "        "
   ]
  },
  {
   "cell_type": "code",
   "execution_count": 18,
   "metadata": {},
   "outputs": [
    {
     "name": "stdout",
     "output_type": "stream",
     "text": [
      "1006\n"
     ]
    }
   ],
   "source": [
    "print(len(data))"
   ]
  },
  {
   "cell_type": "code",
   "execution_count": 19,
   "metadata": {},
   "outputs": [],
   "source": [
    "#Shuffling and saving features and labels in seperate lists for comparison purpose\n",
    "import random\n",
    "random.shuffle(data)\n",
    "features = []\n",
    "labels = []\n",
    "for feature,label in data:\n",
    "    features.append(feature)\n",
    "    labels.append(label)"
   ]
  },
  {
   "cell_type": "code",
   "execution_count": 65,
   "metadata": {},
   "outputs": [],
   "source": [
    "#For the sake of training and testing the algo's accuracy the data is divided into test and train\n",
    "from sklearn.model_selection import train_test_split\n",
    "xtrain,xtest,ytrain,ytest = train_test_split(features,labels,test_size=0.05)"
   ]
  },
  {
   "cell_type": "code",
   "execution_count": 66,
   "metadata": {},
   "outputs": [
    {
     "data": {
      "text/plain": [
       "SVC(C=1, gamma='auto', kernel='linear')"
      ]
     },
     "execution_count": 66,
     "metadata": {},
     "output_type": "execute_result"
    }
   ],
   "source": [
    "#Using support vector classifier\n",
    "from sklearn.svm import SVC\n",
    "model = SVC(C=1,kernel='linear',gamma='auto')\n",
    "model.fit(xtrain,ytrain)"
   ]
  },
  {
   "cell_type": "code",
   "execution_count": 67,
   "metadata": {},
   "outputs": [
    {
     "name": "stdout",
     "output_type": "stream",
     "text": [
      "0.7450980392156863\n"
     ]
    }
   ],
   "source": [
    "#Predicting the test data\n",
    "prediction=model.predict(xtest)\n",
    "accuracy = model.score(xtest,ytest)\n",
    "print(accuracy)"
   ]
  },
  {
   "cell_type": "markdown",
   "metadata": {},
   "source": [
    "\n",
    "I'm displaying the prediction made and the image associated!\n",
    "The accuracy will be good if we are using deep learning concepts.\n"
   ]
  },
  {
   "cell_type": "code",
   "execution_count": 68,
   "metadata": {},
   "outputs": [],
   "source": [
    "test_dir ='C:\\\\Users\\\\PC\\\\Desktop\\\\Job_Assignment\\\\yoga pose-20210722T035747Z-001\\\\yoga pose\\\\Test'\n",
    "tdata = []\n",
    "for category in categories:\n",
    "    t_path= os.path.join(test_dir,category)\n",
    "    label=categories.index(category)\n",
    "    \n",
    "    for img in os.listdir(t_path):\n",
    "        imgpath = os.path.join(t_path,img)\n",
    "        t_pose_img=cv2.imread(imgpath,0)\n",
    "        t_pose_img=cv2.resize(t_pose_img,(50,50))\n",
    "        image = np.array(t_pose_img).flatten()\n",
    "        tdata.append([image,label])"
   ]
  },
  {
   "cell_type": "code",
   "execution_count": 69,
   "metadata": {},
   "outputs": [],
   "source": [
    "random.shuffle(tdata)\n",
    "tfeatures = []\n",
    "tlabels = []\n",
    "for feature,label in tdata:\n",
    "    tfeatures.append(feature)\n",
    "    tlabels.append(label)"
   ]
  },
  {
   "cell_type": "code",
   "execution_count": 70,
   "metadata": {},
   "outputs": [
    {
     "name": "stdout",
     "output_type": "stream",
     "text": [
      "0.6382978723404256\n"
     ]
    }
   ],
   "source": [
    "prediction=model.predict(tfeatures)\n",
    "accuracy = model.score(tfeatures,tlabels)\n",
    "print(accuracy)"
   ]
  },
  {
   "cell_type": "code",
   "execution_count": 72,
   "metadata": {},
   "outputs": [
    {
     "name": "stdout",
     "output_type": "stream",
     "text": [
      "Prediction is:  warrior2\n"
     ]
    },
    {
     "data": {
      "image/png": "[encoded data removed]",
      "text/plain": [
       "<Figure size 432x288 with 1 Axes>"
      ]
     },
     "metadata": {
      "needs_background": "light"
     },
     "output_type": "display_data"
    }
   ],
   "source": [
    "print('Prediction is: ',categories[prediction[1]])\n",
    "plt.imshow(t_pose_img,cmap='gray')\n",
    "plt.show()"
   ]
  },
  {
   "cell_type": "code",
   "execution_count": null,
   "metadata": {},
   "outputs": [],
   "source": []
  }
 ],
 "metadata": {
  "kernelspec": {
   "display_name": "Python 3",
   "language": "python",
   "name": "python3"
  },
  "language_info": {
   "codemirror_mode": {
    "name": "ipython",
    "version": 3
   },
   "file_extension": ".py",
   "mimetype": "text/x-python",
   "name": "python",
   "nbconvert_exporter": "python",
   "pygments_lexer": "ipython3",
   "version": "3.8.3"
  }
 },
 "nbformat": 4,
 "nbformat_minor": 4
}
